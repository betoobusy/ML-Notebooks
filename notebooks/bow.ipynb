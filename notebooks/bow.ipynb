{
 "cells": [
  {
   "cell_type": "markdown",
   "metadata": {},
   "source": [
    "# Bag of Words Text Classifier\n",
    "\n",
    "The code below implements a simple bag of words text classifier.\n",
    "- We tokenize the text, create a vocabulary and encode each piece of text in the dataset\n",
    "- The lookup allows for extracting embeddings for each tokenized inputs\n",
    "- The embedding vectors are added together with a bias vector\n",
    "- The resulting vector is referred to as the scores\n",
    "- The score are applied a softmax to generate probabilities which are used for the classification task\n",
    "\n",
    "The code used in this notebook was inspired by code from the [official repo](https://github.com/neubig/nn4nlp-code) used in the [CMU Neural Networks for NLP class](http://www.phontron.com/class/nn4nlp2021/schedule.html) by [Graham Neubig](http://www.phontron.com/index.php). \n",
    "\n",
    "![img txt](../img/bow.png?raw=true)"
   ]
  },
  {
   "cell_type": "code",
   "execution_count": 4,
   "metadata": {},
   "outputs": [],
   "source": [
    "import torch\n",
    "import random\n",
    "import torch.nn as nn"
   ]
  },
  {
   "cell_type": "markdown",
   "metadata": {},
   "source": [
    "### Download the Data"
   ]
  },
  {
   "cell_type": "code",
   "execution_count": 2,
   "metadata": {},
   "outputs": [],
   "source": [
    "%%capture\n",
    "\n",
    "# download the files\n",
    "!wget https://raw.githubusercontent.com/neubig/nn4nlp-code/master/data/classes/dev.txt\n",
    "!wget https://raw.githubusercontent.com/neubig/nn4nlp-code/master/data/classes/test.txt\n",
    "!wget https://raw.githubusercontent.com/neubig/nn4nlp-code/master/data/classes/train.txt\n",
    "\n",
    "# create the data folders\n",
    "!mkdir data data/classes\n",
    "!cp dev.txt data/classes\n",
    "!cp test.txt data/classes\n",
    "!cp train.txt data/classes"
   ]
  },
  {
   "cell_type": "markdown",
   "metadata": {},
   "source": [
    "### Read the Data"
   ]
  },
  {
   "cell_type": "code",
   "execution_count": 5,
   "metadata": {},
   "outputs": [],
   "source": [
    "# 定义一个函数 read_data，用于从文件中读取数据并返回一个列表\n",
    "def read_data(filename):\n",
    "    data = []\n",
    "    with open(filename, 'r') as f:\n",
    "        for line in f:\n",
    "            line = line.lower().strip()# 将每行转换为小写并去除首尾的空白字符\n",
    "            line = line.split(' ||| ') # 切分每行数据，使用 ' ||| ' 作为分隔符\n",
    "            data.append(line) # 将切分后的数据添加到列表中\n",
    "    return data\n",
    "# 调用 read_data 函数读取训练集和测试集数据\n",
    "train_data = read_data('data/classes/train.txt')\n",
    "test_data = read_data('data/classes/test.txt')"
   ]
  },
  {
   "cell_type": "markdown",
   "metadata": {},
   "source": [
    "### Construct the Vocab and Datasets"
   ]
  },
  {
   "cell_type": "code",
   "execution_count": 6,
   "metadata": {},
   "outputs": [],
   "source": [
    "# creating the word and tag indices\n",
    "word_to_index = {} # 创建空字典，用于将单词映射为索引\n",
    "word_to_index[\"<unk>\"] = len(word_to_index) # 向字典中添加特殊符号 \"<unk>\" 并分配一个索引\n",
    "tag_to_index = {} # 创建空字典，用于将标签映射为索引\n",
    "\n",
    "# 定义一个函数 create_dict，用于将数据中的单词添加到字典 word_to_index 中\n",
    "def create_dict(data, check_unk=False):\n",
    "    for line in data:\n",
    "        for word in line[1].split(\" \"): # 遍历每行数据中的单词\n",
    "            if check_unk == False:\n",
    "                if word not in word_to_index:# 如果单词不在字典中\n",
    "                    word_to_index[word] = len(word_to_index) # 将单词添加到字典中并分配一个索引\n",
    "            else:\n",
    "                # 。如果 check_unk 为 True，并且单词不在字典中，则使用 <unk> 的索引进行代替。同时，还将每行数据的标签添加到 tag_to_index 字典中，并为每个独特的标签分配一个索引值。\n",
    "                if word not in word_to_index:\n",
    "                    word_to_index[word] = word_to_index[\"<unk>\"]\n",
    "\n",
    "        if line[0] not in tag_to_index:\n",
    "            tag_to_index[line[0]] = len(tag_to_index)\n",
    "\n",
    "# 调用 create_dict 函数处理训练集数据\n",
    "create_dict(train_data)\n",
    "# 调用 create_dict 函数处理测试集数据，同时将 check_unk 参数设置为 True\n",
    "# 当 check_unk 为 True 时，如果单词不在字典中，将使用 \"<unk>\" 的索引值进行代替\n",
    "create_dict(test_data, check_unk=True)\n",
    "\n",
    "# create word and tag tensors from data\n",
    "def create_tensor(data):\n",
    "    for line in data:\n",
    "        yield([word_to_index[word] for word in line[1].split(\" \")], tag_to_index[line[0]])\n",
    "# 将数据集中的单词和标签转换为索引表示的张量\n",
    "# create_tensor 函数接受一个数据集 data 作为输入\n",
    "# 使用 yield 关键字创建一个生成器\n",
    "# 生成器返回每行数据的单词索引列表和对应的标签索引\n",
    "# [word_to_index[word] for word in line[1].split(\" \")] 将每行数据中的单词转换为索引表示\n",
    "# tag_to_index[line[0]] 将每行数据的标签转换为索引表示\n",
    "# 生成器将迭代遍历数据集的每一行，并返回对应的索引\n",
    "\n",
    "# 将生成器的结果转换为列表表示，并分别赋值给 train_data 和 test_data\n",
    "train_data = list(create_tensor(train_data))\n",
    "test_data = list(create_tensor(test_data))\n",
    "# 计算字典大小，用于嵌入层和分类器的维度\n",
    "number_of_words = len(word_to_index)\n",
    "number_of_tags = len(tag_to_index)"
   ]
  },
  {
   "cell_type": "markdown",
   "metadata": {},
   "source": [
    "### Model"
   ]
  },
  {
   "cell_type": "code",
   "execution_count": 7,
   "metadata": {},
   "outputs": [],
   "source": [
    "# cpu or gpu\n",
    "device = \"cuda\" if torch.cuda.is_available() else \"cpu\"\n",
    "\n",
    "# 定义一个继承自 torch.nn.Module 的 BoW 类（Bag-of-Words）\n",
    "# BoW 类用于创建一个简单的神经网络模型\n",
    "class BoW(torch.nn.Module):\n",
    "    def __init__(self, nwords, ntags):\n",
    "        super(BoW, self).__init__()\n",
    "        self.embedding = nn.Embedding(nwords, ntags)# 创建一个嵌入层\n",
    "        nn.init.xavier_uniform_(self.embedding.weight) # 初始化嵌入层的权重\n",
    "        # 检查是否有可用的 GPU，选择相应的 Tensor 类型\n",
    "        # 根据 ntags 创建一个偏置向量，requires_grad 设置为 True，表示梯度将会被计算\n",
    "        # 这个偏置向量用于进行分类\n",
    "        type = torch.cuda.FloatTensor if torch.cuda.is_available() else torch.FloatTensor\n",
    "        self.bias = torch.zeros(ntags, requires_grad=True).type(type)\n",
    "\n",
    "    def forward(self, x):\n",
    "        emb = self.embedding(x) # 嵌入层的输出，维度为 seq_len x ntags (每个序列)\n",
    "        out = torch.sum(emb, dim=0) + self.bias # 对嵌入层的输出进行求和，并加上偏置向量\n",
    "        out = out.view(1, -1) # 重塑张量形状为 (1, ntags)\n",
    "        return out"
   ]
  },
  {
   "cell_type": "markdown",
   "metadata": {},
   "source": [
    "### Pretest the Model"
   ]
  },
  {
   "cell_type": "code",
   "execution_count": 8,
   "metadata": {},
   "outputs": [
    {
     "data": {
      "text/plain": [
       "tensor([[ 0.0124,  0.0164, -0.0182, -0.0014, -0.0120]], device='cuda:0',\n",
       "       grad_fn=<ViewBackward0>)"
      ]
     },
     "execution_count": 8,
     "metadata": {},
     "output_type": "execute_result"
    }
   ],
   "source": [
    "# function to convert sentence into tensor using word_to_index dictionary\n",
    "def sentence_to_tensor(sentence):\n",
    "    return torch.LongTensor([word_to_index[word] for word in sentence.split(\" \")])\n",
    "# 定义一个函数 sentence_to_tensor，用于将句子转换为张量表示\n",
    "# sentence_to_tensor 函数接受一个句子作为输入\n",
    "# 使用列表推导式将句子中的每个单词转换为对应的索引，并使用 torch.LongTensor 转换为张量\n",
    "# 返回句子的索引张量表示\n",
    "\n",
    "# 根据是否有可用的 GPU，选择相应的 Tensor 类型\n",
    "type = torch.cuda.LongTensor if torch.cuda.is_available() else torch.LongTensor\n",
    "\n",
    "# 调用 sentence_to_tensor 函数将句子 \"i love dogs\" 转换为索引张量，并将类型转换为先前定义的 Tensor 类型\n",
    "out = sentence_to_tensor(\"i love dogs\").type(type)\n",
    "\n",
    "# 创建一个 BoW 类的实例，并将其移动到指定的 device 上\n",
    "test_model = BoW(number_of_words, number_of_tags).to(device)\n",
    "\n",
    "# 将输入张量 out 传递给 test_model 进行前向传播，得到模型的输出\n",
    "test_model(out)"
   ]
  },
  {
   "cell_type": "markdown",
   "metadata": {},
   "source": [
    "### Train the Model"
   ]
  },
  {
   "cell_type": "code",
   "execution_count": 9,
   "metadata": {},
   "outputs": [
    {
     "name": "stdout",
     "output_type": "stream",
     "text": [
      "ITER: 1 | train loss/sent: 1.4733 | train accuracy: 0.3631 | test accuracy: 0.4009\n",
      "ITER: 2 | train loss/sent: 1.1216 | train accuracy: 0.6040 | test accuracy: 0.4118\n",
      "ITER: 3 | train loss/sent: 0.9123 | train accuracy: 0.7117 | test accuracy: 0.4154\n",
      "ITER: 4 | train loss/sent: 0.7688 | train accuracy: 0.7664 | test accuracy: 0.4140\n",
      "ITER: 5 | train loss/sent: 0.6631 | train accuracy: 0.8065 | test accuracy: 0.4068\n",
      "ITER: 6 | train loss/sent: 0.5814 | train accuracy: 0.8324 | test accuracy: 0.4059\n",
      "ITER: 7 | train loss/sent: 0.5171 | train accuracy: 0.8507 | test accuracy: 0.4077\n",
      "ITER: 8 | train loss/sent: 0.4640 | train accuracy: 0.8695 | test accuracy: 0.4036\n",
      "ITER: 9 | train loss/sent: 0.4191 | train accuracy: 0.8830 | test accuracy: 0.3991\n",
      "ITER: 10 | train loss/sent: 0.3818 | train accuracy: 0.8929 | test accuracy: 0.3964\n"
     ]
    }
   ],
   "source": [
    "# 创建一个 BoW 模型实例，参数为词汇表的大小和标签的数量\n",
    "# 将模型移动到指定的设备(device)\n",
    "model = BoW(number_of_words, number_of_tags).to(device)\n",
    "# 定义一个交叉熵损失函数\n",
    "\n",
    "criterion = nn.CrossEntropyLoss()\n",
    "# 定义一个 Adam 优化器，用于更新模型参数\n",
    "optimizer = torch.optim.Adam(model.parameters())\n",
    "# 定义一个 Tensor 类型为 torch.LongTensor\n",
    "type = torch.LongTensor\n",
    "\n",
    "if torch.cuda.is_available():\n",
    "    model.to(device)\n",
    "    # 若可用 GPU，则将模型移动到指定的设备(device)，并将 Tensor 类型设置为 torch.cuda.LongTensor\n",
    "    type = torch.cuda.LongTensor\n",
    "\n",
    "# perform training of the Bow model\n",
    "def train_bow(model, optimizer, criterion, train_data):\n",
    "    # 进行训练\n",
    "    for ITER in range(10):\n",
    "        # 设置模型为训练模式\n",
    "        model.train()\n",
    "        # 随机打乱训练数据\n",
    "        random.shuffle(train_data)\n",
    "        # 初始化训练损失和正确分类的计数变量\n",
    "        total_loss = 0.0\n",
    "        train_correct = 0\n",
    "        for sentence, tag in train_data:\n",
    "            # 将句子转换为张量，并设置数据类型\n",
    "            sentence = torch.tensor(sentence).type(type)\n",
    "            # 将标签转换为张量，并设置数据类型\n",
    "            tag = torch.tensor([tag]).type(type)\n",
    "            # 通过模型进行前向传播，得到输出\n",
    "            output = model(sentence)\n",
    "            # 预测标签为输出的最大值所在的索引\n",
    "            predicted = torch.argmax(output.data.detach()).item()\n",
    "             # 计算损失\n",
    "            loss = criterion(output, tag)\n",
    "             # 累加损失值\n",
    "            total_loss += loss.item()\n",
    "            # 清空梯度\n",
    "            optimizer.zero_grad()\n",
    "            # 反向传播，计算梯度\n",
    "            loss.backward()\n",
    "            # 更新模型参数\n",
    "            optimizer.step()\n",
    "\n",
    "            if predicted == tag: train_correct+=1 # 统计训练集中分类正确的数量\n",
    "\n",
    "        # perform testing of the model\n",
    "        model.eval() # 设置模型为评估模式\n",
    "        test_correct = 0 # 初始化测试集分类正确的计数变量\n",
    "        for sentence, tag in test_data:\n",
    "            # 将句子转换为张量，并设置数据类型\n",
    "            sentence = torch.tensor(sentence).type(type)\n",
    "            # 通过模型进行前向传播，得到输出\n",
    "            output = model(sentence)\n",
    "            # 预测标签为输出的最大值所在的索引\n",
    "            predicted = torch.argmax(output.data.detach()).item()\n",
    "            if predicted == tag: test_correct += 1 # 统计测试集中分类正确的数量\n",
    "        \n",
    "        # print model performance results\n",
    "        log = f'ITER: {ITER+1} | ' \\\n",
    "            f'train loss/sent: {total_loss/len(train_data):.4f} | ' \\\n",
    "            f'train accuracy: {train_correct/len(train_data):.4f} | ' \\\n",
    "            f'test accuracy: {test_correct/len(test_data):.4f}'\n",
    "        # 构建输出日志\n",
    "        print(log)\n",
    "\n",
    "# 调用 train_bow 函数进行模型训练\n",
    "train_bow(model, optimizer, criterion, train_data)"
   ]
  }
 ],
 "metadata": {
  "kernelspec": {
   "display_name": "nlp",
   "language": "python",
   "name": "python3"
  },
  "language_info": {
   "codemirror_mode": {
    "name": "ipython",
    "version": 3
   },
   "file_extension": ".py",
   "mimetype": "text/x-python",
   "name": "python",
   "nbconvert_exporter": "python",
   "pygments_lexer": "ipython3",
   "version": "3.7.13"
  },
  "orig_nbformat": 4,
  "vscode": {
   "interpreter": {
    "hash": "154abf72fb8cc0db1aa0e7366557ff891bff86d6d75b7e5f2e68a066d591bfd7"
   }
  }
 },
 "nbformat": 4,
 "nbformat_minor": 2
}
