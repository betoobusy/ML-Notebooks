{
 "cells": [
  {
   "cell_type": "markdown",
   "metadata": {},
   "source": [
    "## Concise Logistic Regression for Image Classification\n",
    "\n",
    "- Shows a concise implementation of logistic regression for image classification\n",
    "- Uses PyTorch"
   ]
  },
  {
   "cell_type": "code",
   "execution_count": 1,
   "metadata": {},
   "outputs": [],
   "source": [
    "# imports\n",
    "# 导入所需的PyTorch库\n",
    "import torch\n",
    "import torchvision\n",
    "import torch.nn as nn\n",
    "from torchvision import datasets, models, transforms\n",
    "import os\n",
    "import numpy as np\n",
    "import matplotlib.pyplot as plt\n",
    "\n",
    "%matplotlib inline\n",
    "\n",
    "# 检查GPU是否可用并设置设备\n",
    "device = torch.device(\"cuda:0\" if torch.cuda.is_available() else \"cpu\")"
   ]
  },
  {
   "cell_type": "code",
   "execution_count": null,
   "metadata": {},
   "outputs": [],
   "source": [
    "# download the data (uncomment if to download the data locally)\n",
    "#!wget https://download.pytorch.org/tutorial/hymenoptera_data.zip\n",
    "#!unzip hymenoptera_data.zip"
   ]
  },
  {
   "cell_type": "code",
   "execution_count": 2,
   "metadata": {},
   "outputs": [],
   "source": [
    "# create data loaders\n",
    "# 定义图像数据集的目录\n",
    "data_dir = 'hymenoptera_data'\n",
    "\n",
    "# custom transformer to flatten the image tensors\n",
    "class ReshapeTransform:# 定义变换函数\n",
    "    def __init__(self, new_size):\n",
    "        self.new_size = new_size\n",
    "\n",
    "    def __call__(self, img):\n",
    "        result = torch.reshape(img, self.new_size)\n",
    "        return result\n",
    "\n",
    "# transformations used to standardize and normalize the datasets\n",
    "data_transforms = {# 定义数据集的变换方式\n",
    "    'train': transforms.Compose([\n",
    "        transforms.Resize(224), # 调整图像大小\n",
    "        transforms.CenterCrop(224),# 对中心区域进行裁剪\n",
    "        transforms.ToTensor(), # 转换成tensor类型\n",
    "        ReshapeTransform((-1,)) # 数据压平\n",
    "    ]),\n",
    "    'val': transforms.Compose([\n",
    "        transforms.Resize(224),# 调整图像大小\n",
    "        transforms.CenterCrop(224),# 对中心区域进行裁剪\n",
    "        transforms.ToTensor(),# 转换成tensor类型\n",
    "        ReshapeTransform((-1,)) # 数据压平\n",
    "    ]),\n",
    "}\n",
    "\n",
    "# load the correspoding folders\n",
    "image_datasets = {x: datasets.ImageFolder(os.path.join(data_dir, x),# 从文件夹中加载数据集\n",
    "                                          data_transforms[x])\n",
    "                  for x in ['train', 'val']}\n",
    "\n",
    "# load the entire dataset; we are not using minibatches here\n",
    "train_dataset = torch.utils.data.DataLoader(image_datasets['train'],# 定义训练数据集的 DataLoader\n",
    "                                            batch_size=len(image_datasets['train']),\n",
    "                                            shuffle=True)\n",
    "\n",
    "# 定义测试/验证数据集的 DataLoader\n",
    "test_dataset = torch.utils.data.DataLoader(image_datasets['val'],\n",
    "                                           batch_size=len(image_datasets['val']),\n",
    "                                           shuffle=True)"
   ]
  },
  {
   "cell_type": "code",
   "execution_count": 3,
   "metadata": {},
   "outputs": [],
   "source": [
    "# 定义一个简单的线性回归模型\n",
    "class LR(nn.Module):\n",
    "    def __init__(self, dim):\n",
    "        super(LR, self).__init__()\n",
    "          # 线性层\n",
    "        self.linear = nn.Linear(dim, 1)\n",
    "          # 将权重和偏置初始化为0\n",
    "        nn.init.zeros_(self.linear.weight)\n",
    "        nn.init.zeros_(self.linear.bias)\n",
    "\n",
    "    def forward(self, x):\n",
    "        # 计算模型的输出\n",
    "        x = self.linear(x)\n",
    "        # 将输出应用Sigmoid函数以获得概率值\n",
    "        x = torch.sigmoid(x)\n",
    "        return x "
   ]
  },
  {
   "cell_type": "code",
   "execution_count": 4,
   "metadata": {},
   "outputs": [],
   "source": [
    "# 定义一个预测函数\n",
    "def predict(yhat, y):\n",
    "     # 去掉最外层的维度\n",
    "    yhat = yhat.squeeze()\n",
    "      # 在第0个维度上添加维度，以使其与y的维度匹配\n",
    "    y = y.unsqueeze(0)\n",
    "     # 初始化预测输出\n",
    "    y_prediction = torch.zeros(y.size()[1])\n",
    "     # 预测类别\n",
    "    for i in range(yhat.shape[0]):\n",
    "        if yhat[i] <= 0.5:\n",
    "            y_prediction[i] = 0\n",
    "        else:\n",
    "            y_prediction[i] = 1\n",
    "    # 计算预测准确度\n",
    "    return 100 - torch.mean(torch.abs(y_prediction - y)) * 100"
   ]
  },
  {
   "cell_type": "code",
   "execution_count": 5,
   "metadata": {},
   "outputs": [],
   "source": [
    "# 确定input的维度\n",
    "dim = train_dataset.dataset[0][0].shape[0]\n",
    "# 初始化线性回归模型\n",
    "lrmodel = LR(dim).to(device)\n",
    "# 定义损失函数\n",
    "criterion = nn.BCELoss()\n",
    "# 定义优化器\n",
    "optimizer = torch.optim.SGD(lrmodel.parameters(), lr=0.0001)\n",
    "\"\"\"\n",
    "这段代码定义了一个简单的线性回归模型 LR，该模型具有一个线性层（self.linear）和一个sigmoid激活函数，用于将线性结果转换为二进制分类输出。然后，定义了一个预测函数 predict，该函数根据模型的输出值对数据进行分类并计算准确度。\n",
    "\n",
    "在函数之后，定义了一个变量 dim，它存储了数据集中数据的维度。接着，用 LR(dim) 创建了一个线性回归模型，并将其放到 GPU 中。随后，一个 binary cross entropy 损失函数 BCELoss 被实例化，并通过随机梯度下降 SGD 优化器进行优化。优化器的学习率设置为 0.0001。\n",
    "\"\"\""
   ]
  },
  {
   "cell_type": "code",
   "execution_count": 8,
   "metadata": {},
   "outputs": [
    {
     "name": "stdout",
     "output_type": "stream",
     "text": [
      "Cost after iteration 0: 0.6931471228599548 | Train Acc: 50.40983581542969 | Test Acc: 45.75163269042969\n",
      "Cost after iteration 10: 0.6691471338272095 | Train Acc: 64.3442611694336 | Test Acc: 54.24836730957031\n",
      "Cost after iteration 20: 0.6513182520866394 | Train Acc: 68.44261932373047 | Test Acc: 54.24836730957031\n",
      "Cost after iteration 30: 0.6367825269699097 | Train Acc: 68.03278350830078 | Test Acc: 54.24836730957031\n",
      "Cost after iteration 40: 0.6245337128639221 | Train Acc: 69.67213439941406 | Test Acc: 54.90196228027344\n",
      "Cost after iteration 50: 0.6139225363731384 | Train Acc: 70.90164184570312 | Test Acc: 56.20914840698242\n",
      "Cost after iteration 60: 0.6045235395431519 | Train Acc: 72.54098510742188 | Test Acc: 56.86274337768555\n",
      "Cost after iteration 70: 0.5960512161254883 | Train Acc: 74.18032836914062 | Test Acc: 57.51633834838867\n",
      "Cost after iteration 80: 0.5883084535598755 | Train Acc: 73.77049255371094 | Test Acc: 57.51633834838867\n",
      "Cost after iteration 90: 0.5811557769775391 | Train Acc: 74.59016418457031 | Test Acc: 58.1699333190918\n"
     ]
    }
   ],
   "source": [
    "# training the model\n",
    "costs = []# 初始化一个空列表以保存每个 epoch 的损失值\n",
    "# 迭代 100 次\n",
    "for ITER in range(100):\n",
    "    lrmodel.train() # 把模型设为训练模式\n",
    "     # 从训练集中取出一个 batch 的数据\n",
    "    x, y = next(iter(train_dataset))\n",
    "     # 从测试集中取出一个 batch 的数据\n",
    "    test_x, test_y = next(iter(test_dataset))\n",
    "\n",
    "     # 将数据传输到 GPU 上，并计算模型的输出\n",
    "    yhat = lrmodel.forward(x.to(device))\n",
    "     # 计算二元交叉熵损失函数\n",
    "    cost = criterion(yhat.squeeze(), y.type(torch.FloatTensor).to(device))\n",
    "    # 计算训练集的准确度\n",
    "    train_pred = predict(yhat, y)\n",
    "\n",
    "     # 清空梯度\n",
    "    optimizer.zero_grad()\n",
    "    # 反向传播计算梯度\n",
    "    cost.backward()\n",
    "    # 更新权重\n",
    "    optimizer.step()\n",
    "    \n",
    "     # 把模型设为评估模式，禁用梯度计算\n",
    "    lrmodel.eval()\n",
    "    with torch.no_grad():\n",
    "        # 将测试集数据传输到 GPU 上，并计算模型的输出\n",
    "        yhat_test = lrmodel.forward(test_x.to(device))\n",
    "        # 计算测试集的准确度\n",
    "        test_pred = predict(yhat_test, test_y)\n",
    "    # 如果 ITER 能被 10 整除，就把损失保存到 costs 中\n",
    "    if ITER % 10 == 0:\n",
    "        costs.append(cost)\n",
    "    # 如果 ITER 能被 10 整除，就打印当前的损失值和训练集、测试集的准确度\n",
    "    if ITER % 10 == 0:\n",
    "        print(\"Cost after iteration {}: {} | Train Acc: {} | Test Acc: {}\".format(ITER,cost,train_pred,test_pred))\n",
    "\n",
    "\"\"\"\n",
    "这段代码使用了线性回归模型进行二元分类，并对其进行了训练和评估。\n",
    "该段代码通过循环 100 次来训练模型，每次循环都从训练数据集中获取一个batch的数据。然后将这些数据传输到GPU上，并使用模型计算出预测值。\n",
    "在每个循环中，模型都必须计算损失并应用梯度下降进行优化。优化后，模型通过评估集进行测试，并计算测试结果。\n",
    "如果循环的次数可以被10整除，则损失存入costs列表中，同时打印出损失和训练准确度以及测试准确度的值。\n",
    "\"\"\""
   ]
  },
  {
   "cell_type": "markdown",
   "metadata": {},
   "source": [
    "### References\n",
    "- [A Logistic Regression Model from Scratch](https://colab.research.google.com/drive/1iBoJ0kngkOthy7SgVaVQA1aHEROt5mra?usp=sharing)"
   ]
  }
 ],
 "metadata": {
  "kernelspec": {
   "display_name": "Python 3.7.13 ('play')",
   "language": "python",
   "name": "python3"
  },
  "language_info": {
   "codemirror_mode": {
    "name": "ipython",
    "version": 3
   },
   "file_extension": ".py",
   "mimetype": "text/x-python",
   "name": "python",
   "nbconvert_exporter": "python",
   "pygments_lexer": "ipython3",
   "version": "3.7.13"
  },
  "orig_nbformat": 4,
  "vscode": {
   "interpreter": {
    "hash": "cf9800998463bc980d70cdbacff0c7e9a10687346dc898569e92f016d6e252c9"
   }
  }
 },
 "nbformat": 4,
 "nbformat_minor": 2
}
