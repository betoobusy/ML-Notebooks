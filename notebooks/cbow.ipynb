{
 "cells": [
  {
   "cell_type": "markdown",
   "metadata": {},
   "source": [
    "# Continuous Bag of Words (CBOW) Text Classifier\n",
    "\n",
    "The code below implements a continuous bag of words text classifier.\n",
    "- We tokenize the text, create a vocabulary and encode each piece of text in the dataset\n",
    "- The lookup allows for extracting embeddings for each tokenized input\n",
    "- The embedding vectors are added together\n",
    "- The resulting vector is multiplied with a weight matrix, which is then added a bias vector; this results in scores\n",
    "- The scores are applied a softmax to generate probabilities which are used for the final classification\n",
    "\n",
    "The code used in this notebook was inspired by code from the [official repo](https://github.com/neubig/nn4nlp-code) used in the [CMU Neural Networks for NLP class](http://www.phontron.com/class/nn4nlp2021/schedule.html) by [Graham Neubig](http://www.phontron.com/index.php). \n",
    "\n",
    "![img txt](../img/cbow.png?raw=true)"
   ]
  },
  {
   "cell_type": "code",
   "execution_count": 1,
   "metadata": {},
   "outputs": [],
   "source": [
    "import torch\n",
    "import random\n",
    "import torch.nn as nn"
   ]
  },
  {
   "cell_type": "code",
   "execution_count": null,
   "metadata": {},
   "outputs": [],
   "source": [
    "% % capture\n",
    "''' uncomment to download the data\n",
    "# download the files\n",
    "!wget https://raw.githubusercontent.com/neubig/nn4nlp-code/master/data/classes/dev.txt\n",
    "!wget https://raw.githubusercontent.com/neubig/nn4nlp-code/master/data/classes/test.txt\n",
    "!wget https://raw.githubusercontent.com/neubig/nn4nlp-code/master/data/classes/train.txt\n",
    "\n",
    "# create the data folders\n",
    "!mkdir data data/classes\n",
    "!cp dev.txt data/classes\n",
    "!cp test.txt data/classes\n",
    "!cp train.txt data/classes\n",
    "'''"
   ]
  },
  {
   "cell_type": "markdown",
   "metadata": {},
   "source": [
    "## Read and Process Data"
   ]
  },
  {
   "cell_type": "code",
   "execution_count": 2,
   "metadata": {},
   "outputs": [],
   "source": [
    "# 定义读取数据的函数\n",
    "def read_data(filename):\n",
    "    data = []\n",
    "    with open(filename, 'r') as f:\n",
    "        for line in f:\n",
    "             # 将每行转换为小写并去除首尾空格\n",
    "            line = line.lower().strip()\n",
    "             # 按 '|||' 分割每行数据，并添加到列表中\n",
    "            line = line.split(' ||| ')\n",
    "            data.append(line)\n",
    "    return data\n",
    "\n",
    "# 读取训练数据和测试数据\n",
    "train_data = read_data('data/classes/train.txt')\n",
    "test_data = read_data('data/classes/test.txt')\n",
    "\n",
    "# 创建空的字典word_to_index，用于将单词映射为索引\n",
    "word_to_index = {}\n",
    "# 添加特殊单词 \"<unk>\" 到字典，对应的索引为当前字典的长度\n",
    "word_to_index[\"<unk>\"] = len(word_to_index)\n",
    "# 创建空的字典tag_to_index，用于将标签映射为索引\n",
    "tag_to_index = {}\n",
    "\n",
    "# 定义创建字典的函数create_dict，传入数据列表和是否检查未登录词的标志\n",
    "def create_dict(data, check_unk=False):\n",
    "    # 遍历数据列表中的每一行\n",
    "    for line in data:\n",
    "        # 遍历每一行中的单词\n",
    "        for word in line[1].split(\" \"):\n",
    "            # 如果不需要检查未登录词\n",
    "            if check_unk == False:\n",
    "                 # 如果单词不在word_to_index字典中，将其添加，并使用当前字典长度作为索引\n",
    "                if word not in word_to_index:\n",
    "                    word_to_index[word] = len(word_to_index)\n",
    "            # 如果需要检查未登录词\n",
    "            else:\n",
    "                # 如果单词不在word_to_index字典中，将其添加，并使用\"<unk>\"对应的索引\n",
    "                if word not in word_to_index:\n",
    "                    word_to_index[word] = word_to_index[\"<unk>\"]\n",
    "        # 当前行的标签不在tag_to_index字典中，将其添加，并使用当前字典长度作为索引\n",
    "        if line[0] not in tag_to_index:\n",
    "            tag_to_index[line[0]] = len(tag_to_index)\n",
    "\n",
    "# 调用create_dict函数，传入训练数据train_data，用于创建字典并将单词和标签映射为索引\n",
    "create_dict(train_data)\n",
    "# 调用create_dict函数，传入测试数据test_data，并设置check_unk参数为True，用于创建字典并将单词和标签映射为索引，\n",
    "# 在此过程中，对于不存在于word_to_index字典中的单词，将其映射为\"<unk>\"对应的索引\n",
    "create_dict(test_data, check_unk=True)\n",
    "\n",
    "# 定义创建张量的函数create_tensor，传入数据列表data\n",
    "def create_tensor(data):\n",
    "    # 遍历数据列表中的每一行\n",
    "    for line in data:\n",
    "        # 使用列表推导式将当前行的单词转换为对应的索引，并使用列表存储\n",
    "        # line[1].split(\" \") 将当前行的单词拆分为一个列表\n",
    "        # word_to_index[word] for word in line[1].split(\" \") 将每个单词转换为对应的索引\n",
    "        # [word_to_index[word] for word in line[1].split(\" \")] 创建一个存储索引的列表\n",
    "        # tag_to_index[line[0]] 获取当前行的标签对应的索引\n",
    "        yield ([word_to_index[word] for word in line[1].split(\" \")], tag_to_index[line[0]])\n",
    "\n",
    "# 调用create_tensor函数，传入训练数据train_data，并将生成的张量转换为列表存储在train_data变量中\n",
    "train_data = list(create_tensor(train_data))\n",
    "# 调用create_tensor函数，传入测试数据test_data，并将生成的张量转换为列表存储在test_data变量中\n",
    "test_data = list(create_tensor(test_data))\n",
    "# 获取单词的总数，即word_to_index字典中的键值对个数\n",
    "number_of_words = len(word_to_index)\n",
    "# 获取标签的总数，即tag_to_index字典中的键值对个数\n",
    "number_of_tags = len(tag_to_index)"
   ]
  },
  {
   "cell_type": "markdown",
   "metadata": {},
   "source": [
    "## Model"
   ]
  },
  {
   "cell_type": "code",
   "execution_count": 1,
   "metadata": {},
   "outputs": [
    {
     "ename": "NameError",
     "evalue": "name 'torch' is not defined",
     "output_type": "error",
     "traceback": [
      "\u001B[0;31m---------------------------------------------------------------------------\u001B[0m",
      "\u001B[0;31mNameError\u001B[0m                                 Traceback (most recent call last)",
      "\u001B[0;32m/tmp/ipykernel_3236/4002993260.py\u001B[0m in \u001B[0;36m<module>\u001B[0;34m\u001B[0m\n\u001B[1;32m      1\u001B[0m \u001B[0;31m# cpu or gpu\u001B[0m\u001B[0;34m\u001B[0m\u001B[0;34m\u001B[0m\u001B[0;34m\u001B[0m\u001B[0m\n\u001B[0;32m----> 2\u001B[0;31m \u001B[0mdevice\u001B[0m \u001B[0;34m=\u001B[0m \u001B[0;34m\"cuda\"\u001B[0m \u001B[0;32mif\u001B[0m \u001B[0mtorch\u001B[0m\u001B[0;34m.\u001B[0m\u001B[0mcuda\u001B[0m\u001B[0;34m.\u001B[0m\u001B[0mis_available\u001B[0m\u001B[0;34m(\u001B[0m\u001B[0;34m)\u001B[0m \u001B[0;32melse\u001B[0m \u001B[0;34m\"cpu\"\u001B[0m\u001B[0;34m\u001B[0m\u001B[0;34m\u001B[0m\u001B[0m\n\u001B[0m\u001B[1;32m      3\u001B[0m \u001B[0;34m\u001B[0m\u001B[0m\n\u001B[1;32m      4\u001B[0m \u001B[0;31m# create a simple neural network with embedding layer, bias, and xavier initialization\u001B[0m\u001B[0;34m\u001B[0m\u001B[0;34m\u001B[0m\u001B[0;34m\u001B[0m\u001B[0m\n\u001B[1;32m      5\u001B[0m \u001B[0;32mclass\u001B[0m \u001B[0mCBoW\u001B[0m\u001B[0;34m(\u001B[0m\u001B[0mtorch\u001B[0m\u001B[0;34m.\u001B[0m\u001B[0mnn\u001B[0m\u001B[0;34m.\u001B[0m\u001B[0mModule\u001B[0m\u001B[0;34m)\u001B[0m\u001B[0;34m:\u001B[0m\u001B[0;34m\u001B[0m\u001B[0;34m\u001B[0m\u001B[0m\n",
      "\u001B[0;31mNameError\u001B[0m: name 'torch' is not defined"
     ]
    }
   ],
   "source": [
    "# 根据是否检测到GPU设备，将device变量设置为\"cuda\"或\"cpu\"\n",
    "device = \"cuda\" if torch.cuda.is_available() else \"cpu\"\n",
    "\n",
    "# 定义CBoW类，继承自torch.nn.Module\n",
    "class CBoW(torch.nn.Module):\n",
    "    def __init__(self, nwords, ntags, emb_size):\n",
    "        super(CBoW, self).__init__()\n",
    "\n",
    "         # 创建一个Embedding层，将输入的单词索引映射为指定大小的词嵌入向量\n",
    "        self.embedding = torch.nn.Embedding(nwords, emb_size)\n",
    "        # 创建一个线性层，将词嵌入向量投影到标签的维度\n",
    "        self.linear = torch.nn.Linear(emb_size, ntags)\n",
    "\n",
    "         # 使用xavier_uniform_方法初始化embedding层和linear层的权重\n",
    "        nn.init.xavier_uniform_(self.embedding.weight)\n",
    "        nn.init.xavier_uniform_(self.linear.weight)\n",
    "\n",
    "    def forward(self, x):\n",
    "        # 前向传播函数，输入x为单词索引的张量\n",
    "        emb = self.embedding(x)  # seq x emb_size\n",
    "        out = torch.sum(emb, dim=0)  # emb_size\n",
    "        out = out.view(1, -1)  # reshape to (1, emb_size)\n",
    "        out = self.linear(out)  # 1 x ntags\n",
    "        return out\n",
    "\n",
    "# 定义词嵌入的维度大小\n",
    "EMB_SIZE = 64\n",
    "# 创建CBoW模型实例，传入单词和标签的总数，以及词嵌入的维度大小\n",
    "model = CBoW(number_of_words, number_of_tags, EMB_SIZE)\n",
    "# 定义交叉熵损失函数\n",
    "criterion = torch.nn.CrossEntropyLoss()\n",
    "# 创建Adam优化器，传入模型的参数\n",
    "optimizer = torch.optim.Adam(model.parameters())\n",
    "# 将type变量设置为torch.LongTensor\n",
    "type = torch.LongTensor\n",
    "# 如果检测到GPU设备可用，则将模型移动到GPU上，并将type变量设置为torch.cuda.LongTensor\n",
    "if torch.cuda.is_available():\n",
    "    model.to(device)\n",
    "    type = torch.cuda.LongTensor"
   ]
  },
  {
   "cell_type": "markdown",
   "metadata": {},
   "source": [
    "## Train the Model"
   ]
  },
  {
   "cell_type": "code",
   "execution_count": 4,
   "metadata": {},
   "outputs": [
    {
     "name": "stdout",
     "output_type": "stream",
     "text": [
      "epoch: 1 | train loss/sent: 1.4111 | train accuracy: 0.3841 | test accuracy: 0.3982\n",
      "epoch: 2 | train loss/sent: 0.8886 | train accuracy: 0.6522 | test accuracy: 0.3991\n",
      "epoch: 3 | train loss/sent: 0.5147 | train accuracy: 0.8148 | test accuracy: 0.3950\n",
      "epoch: 4 | train loss/sent: 0.3200 | train accuracy: 0.8878 | test accuracy: 0.3796\n",
      "epoch: 5 | train loss/sent: 0.2148 | train accuracy: 0.9247 | test accuracy: 0.3738\n",
      "epoch: 6 | train loss/sent: 0.1536 | train accuracy: 0.9466 | test accuracy: 0.3783\n",
      "epoch: 7 | train loss/sent: 0.1097 | train accuracy: 0.9618 | test accuracy: 0.3638\n",
      "epoch: 8 | train loss/sent: 0.0797 | train accuracy: 0.9716 | test accuracy: 0.3692\n",
      "epoch: 9 | train loss/sent: 0.0568 | train accuracy: 0.9805 | test accuracy: 0.3661\n",
      "epoch: 10 | train loss/sent: 0.0435 | train accuracy: 0.9853 | test accuracy: 0.3529\n"
     ]
    }
   ],
   "source": [
    "# 对于每个epoch，进行以下操作（执行10次）\n",
    "for epoch in range(10):\n",
    "    # 将模型设置为训练模式\n",
    "    model.train()\n",
    "    # 随机打乱训练数据\n",
    "    random.shuffle(train_data)\n",
    "    # 初始化总损失为0.0\n",
    "    total_loss = 0.0\n",
    "    # 初始化训练正确预测的计数器为0\n",
    "    train_correct = 0\n",
    "    # 遍历训练数据中的每个句子和标签\n",
    "    for sentence, tag in train_data:\n",
    "         # 将句子转换为torch张量，并将其类型设置为指定的type（可能是CPU或GPU上的张量）\n",
    "        sentence = torch.tensor(sentence).type(type)\n",
    "          # 将标签转换为torch张量，并将其类型设置为指定的type\n",
    "        tag = torch.tensor([tag]).type(type)\n",
    "         # 将句子输入模型，获取模型的输出\n",
    "        output = model(sentence)\n",
    "          # 通过计算输出张量中的值的最大索引，获取预测的标签\n",
    "        predicted = torch.argmax(output.data.detach()).item()\n",
    "        # 使用损失函数计算输出和标签之间的损失\n",
    "        loss = criterion(output, tag)\n",
    "         # 累加损失值到总损失\n",
    "        total_loss += loss.item()\n",
    "        # 清空优化器的梯度\n",
    "        optimizer.zero_grad()\n",
    "         # 反向传播计算梯度\n",
    "        loss.backward()\n",
    "         # 执行一步优化器的参数更新\n",
    "        optimizer.step()\n",
    "        # 如果预测标签与真实标签相等，则将训练正确预测的计数器加一\n",
    "        if predicted == tag:\n",
    "            train_correct += 1\n",
    "\n",
    "    # 将模型设置为评估模式（禁用了一些特定于训练的操作，如dropout）\n",
    "    model.eval()\n",
    "    # 初始化测试正确预测的计数器为0\n",
    "    test_correct = 0\n",
    "    # 遍历测试数据中的每个句子和标签\n",
    "    for sentence, tag in test_data:\n",
    "        # 将句子转换为torch张量，并将其类型设置为指定的type\n",
    "        sentence = torch.tensor(sentence).type(type)\n",
    "        # 将句子输入模型，获取模型的输出\n",
    "        output = model(sentence)\n",
    "        # 通过计算输出张量中的值的最大索引，获取预测的标签\n",
    "        predicted = torch.argmax(output.data.detach()).item()\n",
    "         # 如果预测标签与真实标签相等，则将测试正确预测的计数器加一\n",
    "        if predicted == tag:\n",
    "            test_correct += 1\n",
    "\n",
    "    # 构建日志字符串，包含当前epoch的信息\n",
    "    log = f'epoch: {epoch+1} | ' \\\n",
    "        f'train loss/sent: {total_loss/len(train_data):.4f} | ' \\\n",
    "        f'train accuracy: {train_correct/len(train_data):.4f} | ' \\\n",
    "        f'test accuracy: {test_correct/len(test_data):.4f}'\n",
    "     # 打印日志\n",
    "    print(log)"
   ]
  }
 ],
 "metadata": {
  "kernelspec": {
   "display_name": "base",
   "language": "python",
   "name": "python3"
  },
  "language_info": {
   "codemirror_mode": {
    "name": "ipython",
    "version": 3
   },
   "file_extension": ".py",
   "mimetype": "text/x-python",
   "name": "python",
   "nbconvert_exporter": "python",
   "pygments_lexer": "ipython3",
   "version": "3.9.12"
  },
  "orig_nbformat": 4,
  "vscode": {
   "interpreter": {
    "hash": "d4d1e4263499bec80672ea0156c357c1ee493ec2b1c70f0acce89fc37c4a6abe"
   }
  }
 },
 "nbformat": 4,
 "nbformat_minor": 2
}
